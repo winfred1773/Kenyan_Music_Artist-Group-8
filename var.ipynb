{
 "cells": [
  {
   "cell_type": "code",
   "execution_count": 2,
   "id": "b94456c3-1aa5-40fb-8a99-d2aabbf5ebe8",
   "metadata": {},
   "outputs": [
    {
     "name": "stdout",
     "output_type": "stream",
     "text": [
      "Sauti sol\n"
     ]
    }
   ],
   "source": [
    "artist_name = \"Sauti sol\"\n",
    "artist_age = 30\n",
    "print(artist_name)"
   ]
  },
  {
   "cell_type": "code",
   "execution_count": null,
   "id": "a746275a-0583-48e5-a837-e914ec03081c",
   "metadata": {},
   "outputs": [],
   "source": []
  },
  {
   "cell_type": "code",
   "execution_count": null,
   "id": "6c07041e-b654-4e73-aa09-d4865e6d18b0",
   "metadata": {},
   "outputs": [],
   "source": []
  }
 ],
 "metadata": {
  "kernelspec": {
   "display_name": "Python 3 (ipykernel)",
   "language": "python",
   "name": "python3"
  },
  "language_info": {
   "codemirror_mode": {
    "name": "ipython",
    "version": 3
   },
   "file_extension": ".py",
   "mimetype": "text/x-python",
   "name": "python",
   "nbconvert_exporter": "python",
   "pygments_lexer": "ipython3",
   "version": "3.11.7"
  }
 },
 "nbformat": 4,
 "nbformat_minor": 5
}
